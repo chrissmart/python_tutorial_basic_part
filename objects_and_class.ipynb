{
 "cells": [
  {
   "cell_type": "markdown",
   "metadata": {},
   "source": [
    "## Class\n",
    "Class is composed of attributes (data) and methods (functions). <br>\n",
    "Instance of a class is called object."
   ]
  },
  {
   "cell_type": "markdown",
   "metadata": {},
   "source": [
    "### Method Mechnism\n",
    "After inheriting from a parent class, the child class can \"override\", \"add\" or \"super\" the methods. <br>\n",
    "1. Override is like replacing the methods in a parent class. <br>\n",
    "2. Add is to create a new method. <br>\n",
    "3. Super is to combine the methods in the parent class with the new content in the child class. <br>\n",
    "### Method Types\n",
    "1. Instance Method <br>\n",
    "2. Class Method <br>\n",
    "3. Static Method <b>"
   ]
  },
  {
   "cell_type": "code",
   "execution_count": 2,
   "metadata": {},
   "outputs": [
    {
     "name": "stdout",
     "output_type": "stream",
     "text": [
      "My frined's name is  Eletme\n"
     ]
    }
   ],
   "source": [
    "class Person():\n",
    "    def __init__(self, name):\n",
    "        self.name = name\n",
    "someone = Person(\"Eletme\")\n",
    "print(\"My frined's name is \", someone.name)"
   ]
  },
  {
   "cell_type": "code",
   "execution_count": 21,
   "metadata": {
    "collapsed": true
   },
   "outputs": [],
   "source": [
    "class Person():\n",
    "    \n",
    "    def __init__(self, name, height, weight):\n",
    "        self.name = name\n",
    "        self.height = height\n",
    "        self.weight = weight\n",
    "        \n",
    "    def identy_report(self):\n",
    "        print(\"name: \", self.name)\n",
    "        print(\"height: \", self.height)\n",
    "        print(\"weight\", self.weight)\n",
    "\n",
    "class Engineer(Person):\n",
    "    \n",
    "    def __init__(self, name, height, weight, experience):\n",
    "        super().__init__(name, height, weight) # super\n",
    "        self.experience = experience\n",
    "    \n",
    "    def job_content(self): # add a method\n",
    "        print(\"Develop a system\")\n",
    "    \n",
    "    def identy_report(self): # override a method\n",
    "        print(\"name: \", self.name)\n",
    "        print(\"height: \", self.height)\n",
    "        print(\"weight\", self.weight)\n",
    "        print(\"experience\", self.experience)\n",
    "    \n",
    "#     @property # read data\n",
    "#     def experience(self):\n",
    "#         print(\"experience: read data\")\n",
    "#         return self.experience\n",
    "#     @experience.setter # update data\n",
    "#     def experience(self, experience):\n",
    "#         print(\"experiece: update data\")\n",
    "#         self.experience = experience\n",
    "        "
   ]
  },
  {
   "cell_type": "code",
   "execution_count": 2,
   "metadata": {},
   "outputs": [
    {
     "name": "stdout",
     "output_type": "stream",
     "text": [
      "name:  Ryan\n",
      "height:  188\n",
      "weight 87\n"
     ]
    }
   ],
   "source": [
    "person = Person(\"Ryan\", 188, 87)\n",
    "person.identy_report()"
   ]
  },
  {
   "cell_type": "code",
   "execution_count": 25,
   "metadata": {
    "scrolled": false
   },
   "outputs": [
    {
     "name": "stdout",
     "output_type": "stream",
     "text": [
      "name:  Bason\n",
      "height:  177\n",
      "weight 65\n",
      "experience 3\n",
      "Develop a system\n"
     ]
    },
    {
     "data": {
      "text/plain": [
       "'Bason'"
      ]
     },
     "execution_count": 25,
     "metadata": {},
     "output_type": "execute_result"
    }
   ],
   "source": [
    "engineer = Engineer(\"Bason\", 177, 65, 3)\n",
    "engineer.identy_report()\n",
    "engineer.job_content()\n",
    "engineer.name"
   ]
  },
  {
   "cell_type": "code",
   "execution_count": 18,
   "metadata": {},
   "outputs": [
    {
     "name": "stdout",
     "output_type": "stream",
     "text": [
      "<class 'str'>\n",
      "True\n",
      "False\n",
      "True\n",
      "False\n",
      "ha\n"
     ]
    },
    {
     "data": {
      "text/plain": [
       "Word(\"ha\")"
      ]
     },
     "execution_count": 18,
     "metadata": {},
     "output_type": "execute_result"
    }
   ],
   "source": [
    "class Word():\n",
    "    def __init__(self, text):\n",
    "        self.text = text\n",
    "    def equals(self, word2):\n",
    "        return self.text.lower() == word2.text.lower()\n",
    "    def __eq__(self, word2):\n",
    "        return self.text.lower() == word2.text.lower()\n",
    "    def __str__(self):\n",
    "        return self.text\n",
    "    def __repr__(self):\n",
    "        return 'Word(\"' + self.text + '\")'\n",
    "\n",
    "first = Word('ha')\n",
    "second = Word('HA')\n",
    "third = Word('eh')\n",
    "\n",
    "print(type(second.text))\n",
    "print(first.equals(second))\n",
    "print(first.equals(third))\n",
    "\n",
    "print(first == second)\n",
    "print(first == third)\n",
    "\n",
    "print(first)\n",
    "first"
   ]
  },
  {
   "cell_type": "code",
   "execution_count": 36,
   "metadata": {},
   "outputs": [
    {
     "name": "stdout",
     "output_type": "stream",
     "text": [
      "This duck has a wide orange bill and a long tail\n"
     ]
    }
   ],
   "source": [
    "# concept of composition\n",
    "class Bill():\n",
    "    def __init__(self, description):\n",
    "        self.description = description\n",
    "class Tail():\n",
    "    def __init__(self, length):\n",
    "        self.length = length\n",
    "class Duck():\n",
    "    def __init__(self, bill, tail):\n",
    "        self.bill = bill\n",
    "        self.tail = tail\n",
    "    def about(self):\n",
    "        print('This duck has a', self.bill.description, 'bill and a', self.tail.length, 'tail')\n",
    "\n",
    "a_tail = Tail('long')\n",
    "a_bill = Bill('wide orange')\n",
    "duck = Duck(a_bill, a_tail)\n",
    "duck.about()"
   ]
  },
  {
   "cell_type": "markdown",
   "metadata": {},
   "source": [
    "### Things to Do"
   ]
  },
  {
   "cell_type": "code",
   "execution_count": 5,
   "metadata": {},
   "outputs": [
    {
     "name": "stdout",
     "output_type": "stream",
     "text": [
      "<__main__.Thing object at 0x000001C71CAAD400>\n",
      "<__main__.Thing object at 0x000001C71CAAD3C8>\n"
     ]
    }
   ],
   "source": [
    "# 6.1\n",
    "class Thing():\n",
    "    pass\n",
    "print(Thing())\n",
    "\n",
    "example = Thing()\n",
    "print(example)"
   ]
  },
  {
   "cell_type": "code",
   "execution_count": 14,
   "metadata": {},
   "outputs": [
    {
     "name": "stdout",
     "output_type": "stream",
     "text": [
      "abc\n"
     ]
    },
    {
     "data": {
      "text/plain": [
       "<__main__.Thing2 at 0x1c71caba240>"
      ]
     },
     "execution_count": 14,
     "metadata": {},
     "output_type": "execute_result"
    }
   ],
   "source": [
    "# 6.2\n",
    "class Thing2():\n",
    "    def __init__(self, letters):\n",
    "        self.__letters = letters\n",
    "        print(self.__letters)\n",
    "    \n",
    "Thing2('abc')"
   ]
  },
  {
   "cell_type": "code",
   "execution_count": 16,
   "metadata": {},
   "outputs": [
    {
     "name": "stdout",
     "output_type": "stream",
     "text": [
      "xyz\n"
     ]
    }
   ],
   "source": [
    "# 6.3\n",
    "class Thing3(Thing2):\n",
    "    def __init__(self, letters):\n",
    "        super().__init__(letters)\n",
    "letters = Thing3('xyz')"
   ]
  },
  {
   "cell_type": "code",
   "execution_count": 28,
   "metadata": {
    "collapsed": true
   },
   "outputs": [],
   "source": [
    "# 6.4\n",
    "class Element():\n",
    "    def __init__(self, name, symbol, number):\n",
    "        self.__name = name\n",
    "        self.__symbol = symbol\n",
    "        self.__number = number\n",
    "element_object = Element('Hydrogen', 'H', 1)"
   ]
  },
  {
   "cell_type": "code",
   "execution_count": 20,
   "metadata": {
    "collapsed": true
   },
   "outputs": [],
   "source": [
    "# 6.5\n",
    "dic_element = {'name':'Hydrogen', 'symbol':'H', 'number':1}\n",
    "hydrogen = Element(dic_element['name'], dic_element['symbol'], dic_element['number'])"
   ]
  },
  {
   "cell_type": "code",
   "execution_count": 22,
   "metadata": {},
   "outputs": [
    {
     "name": "stdout",
     "output_type": "stream",
     "text": [
      "Hydrogen\n",
      "H\n",
      "1\n"
     ]
    }
   ],
   "source": [
    "# 6.6\n",
    "class Element():\n",
    "    def __init__(self, name, symbol, number):\n",
    "        self.__name = name\n",
    "        self.__symbol = symbol\n",
    "        self.__number = number\n",
    "    \n",
    "    def dump(self):\n",
    "        print(self.__name)\n",
    "        print(self.__symbol)\n",
    "        print(self.__number)\n",
    "hydrogen = Element(dic_element['name'], dic_element['symbol'], dic_element['number'])\n",
    "hydrogen.dump()"
   ]
  },
  {
   "cell_type": "code",
   "execution_count": 32,
   "metadata": {},
   "outputs": [
    {
     "name": "stdout",
     "output_type": "stream",
     "text": [
      "Hydrogen\n",
      "H\n",
      "1\n"
     ]
    }
   ],
   "source": [
    "# 6.7\n",
    "class Element():\n",
    "    def __init__(self, name, symbol, number):\n",
    "        self.__name = name\n",
    "        self.__symbol = symbol\n",
    "        self.__number = number\n",
    "    \n",
    "    def __str__(self):\n",
    "        return self.__name + '\\n' + self.__symbol + '\\n' + str(self.__number)\n",
    "\n",
    "hydrogen = Element(dic_element['name'], dic_element['symbol'], dic_element['number'])\n",
    "print(hydrogen)"
   ]
  },
  {
   "cell_type": "code",
   "execution_count": 33,
   "metadata": {
    "collapsed": true
   },
   "outputs": [],
   "source": [
    "# 6.8\n"
   ]
  },
  {
   "cell_type": "code",
   "execution_count": 34,
   "metadata": {
    "collapsed": true
   },
   "outputs": [],
   "source": [
    "# 6.9"
   ]
  },
  {
   "cell_type": "code",
   "execution_count": null,
   "metadata": {
    "collapsed": true
   },
   "outputs": [],
   "source": []
  }
 ],
 "metadata": {
  "kernelspec": {
   "display_name": "Python 3",
   "language": "python",
   "name": "python3"
  },
  "language_info": {
   "codemirror_mode": {
    "name": "ipython",
    "version": 3
   },
   "file_extension": ".py",
   "mimetype": "text/x-python",
   "name": "python",
   "nbconvert_exporter": "python",
   "pygments_lexer": "ipython3",
   "version": "3.6.2"
  }
 },
 "nbformat": 4,
 "nbformat_minor": 2
}
