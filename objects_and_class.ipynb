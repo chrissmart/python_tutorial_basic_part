{
 "cells": [
  {
   "cell_type": "markdown",
   "metadata": {},
   "source": [
    "## Class\n",
    "Class is composed of attributes (data) and methods (functions). <br>\n",
    "Instance of a class is called object."
   ]
  },
  {
   "cell_type": "code",
   "execution_count": 2,
   "metadata": {},
   "outputs": [
    {
     "name": "stdout",
     "output_type": "stream",
     "text": [
      "My frined's name is  Eletme\n"
     ]
    }
   ],
   "source": [
    "class Person():\n",
    "    def __init__(self, name):\n",
    "        self.name = name\n",
    "someone = Person(\"Eletme\")\n",
    "print(\"My frined's name is \", someone.name)"
   ]
  },
  {
   "cell_type": "code",
   "execution_count": 21,
   "metadata": {
    "collapsed": true
   },
   "outputs": [],
   "source": [
    "class Person():\n",
    "    \n",
    "    def __init__(self, name, height, weight):\n",
    "        self.name = name\n",
    "        self.height = height\n",
    "        self.weight = weight\n",
    "        \n",
    "    def identy_report(self):\n",
    "        print(\"name: \", self.name)\n",
    "        print(\"height: \", self.height)\n",
    "        print(\"weight\", self.weight)\n",
    "\n",
    "class Engineer(Person):\n",
    "    \n",
    "    def __init__(self, name, height, weight, experience):\n",
    "        super().__init__(name, height, weight) # super\n",
    "        self.experience = experience\n",
    "    \n",
    "    def job_content(self): # add a method\n",
    "        print(\"Develop a system\")\n",
    "    \n",
    "    def identy_report(self): # override a method\n",
    "        print(\"name: \", self.name)\n",
    "        print(\"height: \", self.height)\n",
    "        print(\"weight\", self.weight)\n",
    "        print(\"experience\", self.experience)\n",
    "    \n",
    "#     @property # read data\n",
    "#     def experience(self):\n",
    "#         print(\"experience: read data\")\n",
    "#         return self.experience\n",
    "#     @experience.setter # update data\n",
    "#     def experience(self, experience):\n",
    "#         print(\"experiece: update data\")\n",
    "#         self.experience = experience\n",
    "        "
   ]
  },
  {
   "cell_type": "code",
   "execution_count": 2,
   "metadata": {},
   "outputs": [
    {
     "name": "stdout",
     "output_type": "stream",
     "text": [
      "name:  Ryan\n",
      "height:  188\n",
      "weight 87\n"
     ]
    }
   ],
   "source": [
    "person = Person(\"Ryan\", 188, 87)\n",
    "person.identy_report()"
   ]
  },
  {
   "cell_type": "code",
   "execution_count": 25,
   "metadata": {
    "scrolled": false
   },
   "outputs": [
    {
     "name": "stdout",
     "output_type": "stream",
     "text": [
      "name:  Bason\n",
      "height:  177\n",
      "weight 65\n",
      "experience 3\n",
      "Develop a system\n"
     ]
    },
    {
     "data": {
      "text/plain": [
       "'Bason'"
      ]
     },
     "execution_count": 25,
     "metadata": {},
     "output_type": "execute_result"
    }
   ],
   "source": [
    "engineer = Engineer(\"Bason\", 177, 65, 3)\n",
    "engineer.identy_report()\n",
    "engineer.job_content()\n",
    "engineer.name"
   ]
  },
  {
   "cell_type": "markdown",
   "metadata": {},
   "source": [
    "### Things to Do"
   ]
  },
  {
   "cell_type": "code",
   "execution_count": 5,
   "metadata": {},
   "outputs": [
    {
     "name": "stdout",
     "output_type": "stream",
     "text": [
      "<__main__.Thing object at 0x000001C71CAAD400>\n",
      "<__main__.Thing object at 0x000001C71CAAD3C8>\n"
     ]
    }
   ],
   "source": [
    "# 6.1\n",
    "class Thing():\n",
    "    pass\n",
    "print(Thing())\n",
    "\n",
    "example = Thing()\n",
    "print(example)"
   ]
  },
  {
   "cell_type": "code",
   "execution_count": 14,
   "metadata": {},
   "outputs": [
    {
     "name": "stdout",
     "output_type": "stream",
     "text": [
      "abc\n"
     ]
    },
    {
     "data": {
      "text/plain": [
       "<__main__.Thing2 at 0x1c71caba240>"
      ]
     },
     "execution_count": 14,
     "metadata": {},
     "output_type": "execute_result"
    }
   ],
   "source": [
    "# 6.2\n",
    "class Thing2():\n",
    "    def __init__(self, letters):\n",
    "        self.__letters = letters\n",
    "        print(self.__letters)\n",
    "    \n",
    "Thing2('abc')"
   ]
  },
  {
   "cell_type": "code",
   "execution_count": 16,
   "metadata": {},
   "outputs": [
    {
     "name": "stdout",
     "output_type": "stream",
     "text": [
      "xyz\n"
     ]
    }
   ],
   "source": [
    "# 6.3\n",
    "class Thing3(Thing2):\n",
    "    def __init__(self, letters):\n",
    "        super().__init__(letters)\n",
    "letters = Thing3('xyz')"
   ]
  },
  {
   "cell_type": "code",
   "execution_count": 28,
   "metadata": {
    "collapsed": true
   },
   "outputs": [],
   "source": [
    "# 6.4\n",
    "class Element():\n",
    "    def __init__(self, name, symbol, number):\n",
    "        self.__name = name\n",
    "        self.__symbol = symbol\n",
    "        self.__number = number\n",
    "element_object = Element('Hydrogen', 'H', 1)"
   ]
  },
  {
   "cell_type": "code",
   "execution_count": 29,
   "metadata": {},
   "outputs": [],
   "source": [
    "# 6.5\n",
    "dic_element = {'name':'Hydrogen', 'symbol':'H', 'number':1}\n",
    "hydrogen = Element(dic_element['name'], dic_element['symbol'], dic_element['number'])"
   ]
  },
  {
   "cell_type": "code",
   "execution_count": 32,
   "metadata": {},
   "outputs": [
    {
     "name": "stdout",
     "output_type": "stream",
     "text": [
      "Hydrogen\n",
      "H\n",
      "1\n"
     ]
    },
    {
     "ename": "TypeError",
     "evalue": "__str__ returned non-string (type NoneType)",
     "output_type": "error",
     "traceback": [
      "\u001b[1;31m---------------------------------------------------------------------------\u001b[0m",
      "\u001b[1;31mTypeError\u001b[0m                                 Traceback (most recent call last)",
      "\u001b[1;32m<ipython-input-32-ec5925f37c6a>\u001b[0m in \u001b[0;36m<module>\u001b[1;34m()\u001b[0m\n\u001b[0;32m     12\u001b[0m \u001b[1;33m\u001b[0m\u001b[0m\n\u001b[0;32m     13\u001b[0m \u001b[0mhydrogen\u001b[0m \u001b[1;33m=\u001b[0m \u001b[0mElement\u001b[0m\u001b[1;33m(\u001b[0m\u001b[0mdic_element\u001b[0m\u001b[1;33m[\u001b[0m\u001b[1;34m'name'\u001b[0m\u001b[1;33m]\u001b[0m\u001b[1;33m,\u001b[0m \u001b[0mdic_element\u001b[0m\u001b[1;33m[\u001b[0m\u001b[1;34m'symbol'\u001b[0m\u001b[1;33m]\u001b[0m\u001b[1;33m,\u001b[0m \u001b[0mdic_element\u001b[0m\u001b[1;33m[\u001b[0m\u001b[1;34m'number'\u001b[0m\u001b[1;33m]\u001b[0m\u001b[1;33m)\u001b[0m\u001b[1;33m\u001b[0m\u001b[0m\n\u001b[1;32m---> 14\u001b[1;33m \u001b[0mprint\u001b[0m\u001b[1;33m(\u001b[0m\u001b[0mhydrogen\u001b[0m\u001b[1;33m)\u001b[0m\u001b[1;33m\u001b[0m\u001b[0m\n\u001b[0m",
      "\u001b[1;31mTypeError\u001b[0m: __str__ returned non-string (type NoneType)"
     ]
    }
   ],
   "source": [
    "# 6.6\n",
    "class Element():\n",
    "    def __init__(self, name, symbol, number):\n",
    "        self.__name = name\n",
    "        self.__symbol = symbol\n",
    "        self.__number = number\n",
    "    \n",
    "    def __str__(self):\n",
    "        print(self.__name)\n",
    "        print(self.__symbol)\n",
    "        print(self.__number)\n",
    "\n",
    "hydrogen = Element(dic_element['name'], dic_element['symbol'], dic_element['number'])\n",
    "print(hydrogen)"
   ]
  },
  {
   "cell_type": "code",
   "execution_count": null,
   "metadata": {
    "collapsed": true
   },
   "outputs": [],
   "source": [
    "# 6.7\n"
   ]
  }
 ],
 "metadata": {
  "kernelspec": {
   "display_name": "Python 3",
   "language": "python",
   "name": "python3"
  },
  "language_info": {
   "codemirror_mode": {
    "name": "ipython",
    "version": 3
   },
   "file_extension": ".py",
   "mimetype": "text/x-python",
   "name": "python",
   "nbconvert_exporter": "python",
   "pygments_lexer": "ipython3",
   "version": "3.6.2"
  }
 },
 "nbformat": 4,
 "nbformat_minor": 2
}
