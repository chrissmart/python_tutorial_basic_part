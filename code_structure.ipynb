{
 "cells": [
  {
   "cell_type": "markdown",
   "metadata": {},
   "source": [
    "## if elif else"
   ]
  },
  {
   "cell_type": "code",
   "execution_count": 9,
   "metadata": {},
   "outputs": [
    {
     "name": "stdout",
     "output_type": "stream",
     "text": [
      "The team wins the match\n",
      "The bin is empty for now\n",
      "Sorry for your participation\n"
     ]
    }
   ],
   "source": [
    "# to compare\n",
    "messi_score = 3\n",
    "suarez_score = 2\n",
    "if (messi_score > 2) and not (suarez_score < 1):\n",
    "    print(\"The team wins the match\")\n",
    "else:\n",
    "    print(\"High risk to lost the match\")\n",
    "\n",
    "# to show empty data structure\n",
    "list_bin = []\n",
    "if list_bin:\n",
    "    print(\"Time to take away the garbage\")\n",
    "else:\n",
    "    print(\"The bin is empty for now\")\n",
    "    \n",
    "# multiple comparisons\n",
    "starting_lineup = [7, 12, 8, 9, 10, 5, 14, 1, 22, 19, 16]\n",
    "if 6 in starting_lineup:\n",
    "    print(\"You are in\")\n",
    "else:\n",
    "    print(\"Sorry for your participation\")"
   ]
  },
  {
   "cell_type": "markdown",
   "metadata": {},
   "source": [
    "## loop"
   ]
  },
  {
   "cell_type": "code",
   "execution_count": 8,
   "metadata": {},
   "outputs": [
    {
     "name": "stdout",
     "output_type": "stream",
     "text": [
      "On monday courses include: machine learning and data mining\n",
      "On tuesday courses include: nature language processing/principles of data science\n",
      "On wednesday courses include: multimedia retrieval\n"
     ]
    }
   ],
   "source": [
    "# zip()\n",
    "days = ['monday', 'tuesday', 'wednesday', 'saturday']\n",
    "course_schedule = ['machine learning and data mining', 'nature language processing/principles of data science', 'multimedia retrieval']\n",
    "for day, course in zip(days, course_schedule):\n",
    "    print(\"On\", day, \"courses include:\", course)"
   ]
  },
  {
   "cell_type": "code",
   "execution_count": null,
   "metadata": {
    "collapsed": true
   },
   "outputs": [],
   "source": [
    "# comprehensions: list, dictionary, set, generator\n"
   ]
  },
  {
   "cell_type": "markdown",
   "metadata": {},
   "source": [
    "## Things to Do"
   ]
  },
  {
   "cell_type": "code",
   "execution_count": 1,
   "metadata": {},
   "outputs": [
    {
     "name": "stdout",
     "output_type": "stream",
     "text": [
      "just right\n"
     ]
    }
   ],
   "source": [
    "# 4.1\n",
    "guess_me = 7\n",
    "if guess_me < 7:\n",
    "    print(\"less than 7\")\n",
    "elif guess_me == 7:\n",
    "    print(\"just right\")\n",
    "else:\n",
    "    print(\"too high\")"
   ]
  },
  {
   "cell_type": "code",
   "execution_count": 2,
   "metadata": {},
   "outputs": [
    {
     "name": "stdout",
     "output_type": "stream",
     "text": [
      "too low\n",
      "too low\n",
      "too low\n",
      "too low\n",
      "too low\n",
      "too low\n",
      "found it\n"
     ]
    }
   ],
   "source": [
    "# 4.2\n",
    "guess_me = 7\n",
    "start = 1\n",
    "while(1):\n",
    "    if start < guess_me:\n",
    "        print(\"too low\")\n",
    "    elif start == guess_me:\n",
    "        print(\"found it\")\n",
    "        break\n",
    "    else:\n",
    "        print(\"oops\")\n",
    "        break\n",
    "    \n",
    "    start+=1"
   ]
  },
  {
   "cell_type": "code",
   "execution_count": 5,
   "metadata": {},
   "outputs": [
    {
     "name": "stdout",
     "output_type": "stream",
     "text": [
      "3\n",
      "2\n",
      "1\n",
      "0\n"
     ]
    }
   ],
   "source": [
    "# 4.3\n",
    "for value in [3, 2, 1, 0]:\n",
    "    print(value)\n"
   ]
  },
  {
   "cell_type": "code",
   "execution_count": 11,
   "metadata": {},
   "outputs": [
    {
     "name": "stdout",
     "output_type": "stream",
     "text": [
      "[0, 2, 4, 6, 8]\n"
     ]
    }
   ],
   "source": [
    "# 4.4\n",
    "list_even_number = [number for number in range(10) if number % 2 == 0]\n",
    "print(list_even_number)"
   ]
  },
  {
   "cell_type": "code",
   "execution_count": 12,
   "metadata": {},
   "outputs": [
    {
     "name": "stdout",
     "output_type": "stream",
     "text": [
      "{0: 0, 1: 1, 2: 4, 3: 9, 4: 16, 5: 25, 6: 36, 7: 49, 8: 64, 9: 81}\n"
     ]
    }
   ],
   "source": [
    "# 4.5\n",
    "dic_square_number = {key:key**2 for key in range(10)}\n",
    "print(dic_square_\n",
    "      number)"
   ]
  },
  {
   "cell_type": "code",
   "execution_count": 13,
   "metadata": {},
   "outputs": [
    {
     "name": "stdout",
     "output_type": "stream",
     "text": [
      "{1, 3, 5, 7, 9}\n"
     ]
    }
   ],
   "source": [
    "# 4.6\n",
    "set_number = {number for number in range(10) if number % 2 == 1}\n",
    "print(set_number)"
   ]
  },
  {
   "cell_type": "code",
   "execution_count": 20,
   "metadata": {},
   "outputs": [
    {
     "name": "stdout",
     "output_type": "stream",
     "text": [
      "Got\n",
      "[0, 1, 2, 3, 4, 5, 6, 7, 8, 9]\n"
     ]
    }
   ],
   "source": [
    "# 4.7\n",
    "words = (word for word in ['Got', [number for number in range(10)]])\n",
    "for word in words:\n",
    "    print(word)"
   ]
  },
  {
   "cell_type": "code",
   "execution_count": null,
   "metadata": {
    "collapsed": true
   },
   "outputs": [],
   "source": []
  }
 ],
 "metadata": {
  "kernelspec": {
   "display_name": "Python 3",
   "language": "python",
   "name": "python3"
  },
  "language_info": {
   "codemirror_mode": {
    "name": "ipython",
    "version": 3
   },
   "file_extension": ".py",
   "mimetype": "text/x-python",
   "name": "python",
   "nbconvert_exporter": "python",
   "pygments_lexer": "ipython3",
   "version": "3.6.2"
  }
 },
 "nbformat": 4,
 "nbformat_minor": 2
}
