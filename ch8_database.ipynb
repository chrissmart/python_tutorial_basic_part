{
 "cells": [
  {
   "cell_type": "markdown",
   "metadata": {},
   "source": [
    "## Database"
   ]
  },
  {
   "cell_type": "code",
   "execution_count": 1,
   "metadata": {},
   "outputs": [
    {
     "data": {
      "text/plain": [
       "114"
      ]
     },
     "execution_count": 1,
     "metadata": {},
     "output_type": "execute_result"
    }
   ],
   "source": [
    "\n",
    "poem = '''\n",
    "For how long have I wandered along this beach with endless memory.\n",
    "Wind blows, River streams\n",
    "My stories and time\n",
    "'''\n",
    "len(poem)"
   ]
  },
  {
   "cell_type": "code",
   "execution_count": 2,
   "metadata": {
    "collapsed": true
   },
   "outputs": [],
   "source": [
    "# write files\n",
    "poem_file = open('poem_file', 'wt') # for wt, first letter means write the file while the second means the type of file is text\n",
    "poem_file.write(poem)\n",
    "poem_file.close()"
   ]
  },
  {
   "cell_type": "code",
   "execution_count": 8,
   "metadata": {
    "collapsed": true
   },
   "outputs": [],
   "source": [
    "# write files\n",
    "poem_file_2 = open('poem_file_2', 'wt') # for wt, first letter means write the file while the second means the type of file is text\n",
    "print(poem, file = poem_file_2, sep = '', end = '')\n",
    "poem_file_2.close()"
   ]
  },
  {
   "cell_type": "code",
   "execution_count": null,
   "metadata": {
    "collapsed": true
   },
   "outputs": [],
   "source": []
  },
  {
   "cell_type": "markdown",
   "metadata": {},
   "source": [
    "## Things to Do"
   ]
  },
  {
   "cell_type": "code",
   "execution_count": 4,
   "metadata": {},
   "outputs": [],
   "source": [
    "# 8.1 \n",
    "test1 = 'This is a test of the emergency text system'\n",
    "text = open('test', 'wt')\n",
    "text.write(test1)\n",
    "text.close()"
   ]
  },
  {
   "cell_type": "code",
   "execution_count": 13,
   "metadata": {},
   "outputs": [
    {
     "name": "stdout",
     "output_type": "stream",
     "text": [
      "test1:  This is a test of the emergency text system\n",
      "test2:  This is a test of the emergency text system\n"
     ]
    }
   ],
   "source": [
    "# 8.2\n",
    "test1 = open('test', 'rt')\n",
    "test2 = ''\n",
    "for line in test1:\n",
    "    print('test1: ', line)\n",
    "    test2 += line\n",
    "\n",
    "print('test2: ', test2)\n",
    "test1.close()"
   ]
  },
  {
   "cell_type": "code",
   "execution_count": null,
   "metadata": {
    "collapsed": true
   },
   "outputs": [],
   "source": []
  }
 ],
 "metadata": {
  "kernelspec": {
   "display_name": "Python 3",
   "language": "python",
   "name": "python3"
  },
  "language_info": {
   "codemirror_mode": {
    "name": "ipython",
    "version": 3
   },
   "file_extension": ".py",
   "mimetype": "text/x-python",
   "name": "python",
   "nbconvert_exporter": "python",
   "pygments_lexer": "ipython3",
   "version": "3.6.2"
  }
 },
 "nbformat": 4,
 "nbformat_minor": 2
}
