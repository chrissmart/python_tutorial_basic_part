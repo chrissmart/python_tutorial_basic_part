{
 "cells": [
  {
   "cell_type": "markdown",
   "metadata": {},
   "source": [
    "## Modules\n",
    "A file of python code including functions or variables.\n",
    "\n",
    "## Packages\n",
    "1. Organize modules into file hierarchies\n",
    "2. A file named __init__.py is needed to track the directory as a package"
   ]
  },
  {
   "cell_type": "code",
   "execution_count": 9,
   "metadata": {},
   "outputs": [],
   "source": [
    "import sys\n",
    "for place in sys.path:\n",
    "    print(place) # show where python searches for files to import"
   ]
  },
  {
   "cell_type": "markdown",
   "metadata": {},
   "source": [
    "### Standard Library\n",
    "Below shows how some of standard modules handle the data structure of dictionaries"
   ]
  },
  {
   "cell_type": "code",
   "execution_count": 4,
   "metadata": {},
   "outputs": [
    {
     "name": "stdout",
     "output_type": "stream",
     "text": [
      "{'guitar': 200, 'electric rice cooker': 100, 'toaster': 150}\n"
     ]
    }
   ],
   "source": [
    "dic_thing_price = {'guitar':200, 'electric rice cooker':100, 'toaster':150}\n",
    "print(dic_thing_price)"
   ]
  },
  {
   "cell_type": "code",
   "execution_count": 5,
   "metadata": {},
   "outputs": [
    {
     "name": "stdout",
     "output_type": "stream",
     "text": [
      "{'guitar': 200, 'electric rice cooker': 100, 'toaster': 150, 'fried pan': 80}\n"
     ]
    }
   ],
   "source": [
    "# setdefault()\n",
    "dic_thing_price.setdefault('fried pan', 80) # set a new key and value\n",
    "print(dic_thing_price)"
   ]
  },
  {
   "cell_type": "code",
   "execution_count": 13,
   "metadata": {},
   "outputs": [
    {
     "name": "stdout",
     "output_type": "stream",
     "text": [
      "20\n"
     ]
    },
    {
     "ename": "KeyError",
     "evalue": "'R2'",
     "output_type": "error",
     "traceback": [
      "\u001b[1;31m---------------------------------------------------------------------------\u001b[0m",
      "\u001b[1;31mKeyError\u001b[0m                                  Traceback (most recent call last)",
      "\u001b[1;32m<ipython-input-13-179caf40510b>\u001b[0m in \u001b[0;36m<module>\u001b[1;34m()\u001b[0m\n\u001b[0;32m      8\u001b[0m \u001b[1;33m\u001b[0m\u001b[0m\n\u001b[0;32m      9\u001b[0m \u001b[1;32mfor\u001b[0m \u001b[0mroute\u001b[0m \u001b[1;32min\u001b[0m \u001b[0mlist_route\u001b[0m\u001b[1;33m:\u001b[0m\u001b[1;33m\u001b[0m\u001b[0m\n\u001b[1;32m---> 10\u001b[1;33m     \u001b[0mprint\u001b[0m\u001b[1;33m(\u001b[0m\u001b[0mdic_route_travel_time\u001b[0m\u001b[1;33m[\u001b[0m\u001b[0mroute\u001b[0m\u001b[1;33m]\u001b[0m\u001b[1;33m)\u001b[0m \u001b[1;31m# This would raise a KeyError\u001b[0m\u001b[1;33m\u001b[0m\u001b[0m\n\u001b[0m",
      "\u001b[1;31mKeyError\u001b[0m: 'R2'"
     ]
    }
   ],
   "source": [
    "# defaultdict() with function as argument\n",
    "# This would be useful when dealing with the missing values in a data structure\n",
    "\n",
    "## description of the problem\n",
    "list_route = ['R1', 'R2', 'R3']\n",
    "dic_route_travel_time['R1'] = 20 # route travel time for R3 is missing\n",
    "dic_route_travel_time['R3'] = 24\n",
    "\n",
    "for route in list_route:\n",
    "    print(dic_route_travel_time[route]) # This would raise a KeyError"
   ]
  },
  {
   "cell_type": "code",
   "execution_count": 14,
   "metadata": {},
   "outputs": [
    {
     "name": "stdout",
     "output_type": "stream",
     "text": [
      "20\n",
      "no value\n",
      "24\n"
     ]
    }
   ],
   "source": [
    "## solution for the problem\n",
    "from collections import defaultdict\n",
    "list_route = ['R1', 'R2', 'R3']\n",
    "dic_route_travel_time = defaultdict(lambda: 'no value') # show 'no value' when there is a missing value\n",
    "dic_route_travel_time['R1'] = 20 # route travel time for R3 is missing\n",
    "dic_route_travel_time['R3'] = 24\n",
    "\n",
    "for route in list_route:\n",
    "    print(dic_route_travel_time[route]) # This would raise a KeyError\n"
   ]
  },
  {
   "cell_type": "code",
   "execution_count": 18,
   "metadata": {},
   "outputs": [
    {
     "name": "stdout",
     "output_type": "stream",
     "text": [
      "defaultdict(<class 'int'>, {'spam': 1})\n",
      "defaultdict(<class 'int'>, {'spam': 1, 'egg': 1})\n",
      "defaultdict(<class 'int'>, {'spam': 1, 'egg': 1, 'hotdog': 1})\n",
      "defaultdict(<class 'int'>, {'spam': 1, 'egg': 2, 'hotdog': 1})\n",
      "defaultdict(<class 'int'>, {'spam': 1, 'egg': 2, 'hotdog': 1, 'mayonnaise': 1})\n",
      "defaultdict(<class 'int'>, {'spam': 1, 'egg': 3, 'hotdog': 1, 'mayonnaise': 1})\n",
      "spam 1\n",
      "egg 3\n",
      "hotdog 1\n",
      "mayonnaise 1\n"
     ]
    }
   ],
   "source": [
    "from collections import defaultdict\n",
    "food_counter = defaultdict(int)\n",
    "for food in ['spam', 'egg', 'hotdog', 'egg', 'mayonnaise', 'egg']:\n",
    "    food_counter[food] += 1\n",
    "    print(food_counter)\n",
    "\n",
    "for food, count in food_counter.items():\n",
    "    print(food, count)"
   ]
  },
  {
   "cell_type": "markdown",
   "metadata": {},
   "source": [
    "## Things to Do"
   ]
  },
  {
   "cell_type": "code",
   "execution_count": 1,
   "metadata": {
    "collapsed": true
   },
   "outputs": [],
   "source": [
    "# 5.1 - 5.4\n",
    "# completed: see zoo.py"
   ]
  },
  {
   "cell_type": "code",
   "execution_count": 2,
   "metadata": {},
   "outputs": [
    {
     "name": "stdout",
     "output_type": "stream",
     "text": [
      "{'a': 1, 'b': 2, 'c': 3}\n",
      "a\n",
      "b\n",
      "c\n"
     ]
    }
   ],
   "source": [
    "# 5.5\n",
    "plain = {'a':1, 'b':2, 'c':3}\n",
    "print(plain)\n",
    "for key in plain:\n",
    "    print(key)"
   ]
  },
  {
   "cell_type": "code",
   "execution_count": 3,
   "metadata": {},
   "outputs": [
    {
     "name": "stdout",
     "output_type": "stream",
     "text": [
      "OrderedDict([('a', 1), ('b', 2), ('c', 3)])\n",
      "a\n",
      "b\n",
      "c\n"
     ]
    }
   ],
   "source": [
    "# 5.6\n",
    "from collections import OrderedDict\n",
    "fancy = OrderedDict([('a', 1),\n",
    "          ('b', 2),\n",
    "          ('c', 3)])\n",
    "print(fancy)\n",
    "for key in fancy:\n",
    "    print(key)"
   ]
  },
  {
   "cell_type": "code",
   "execution_count": 5,
   "metadata": {},
   "outputs": [
    {
     "name": "stdout",
     "output_type": "stream",
     "text": [
      "something for a\n"
     ]
    }
   ],
   "source": [
    "# 5.7\n",
    "from collections import defaultdict\n",
    "dict_of_lists = defaultdict(list)\n",
    "dict_of_lists['a'] = 'something for a'\n",
    "print(dict_of_lists['a'])"
   ]
  },
  {
   "cell_type": "code",
   "execution_count": null,
   "metadata": {
    "collapsed": true
   },
   "outputs": [],
   "source": []
  }
 ],
 "metadata": {
  "kernelspec": {
   "display_name": "Python 3",
   "language": "python",
   "name": "python3"
  },
  "language_info": {
   "codemirror_mode": {
    "name": "ipython",
    "version": 3
   },
   "file_extension": ".py",
   "mimetype": "text/x-python",
   "name": "python",
   "nbconvert_exporter": "python",
   "pygments_lexer": "ipython3",
   "version": "3.6.2"
  }
 },
 "nbformat": 4,
 "nbformat_minor": 2
}
